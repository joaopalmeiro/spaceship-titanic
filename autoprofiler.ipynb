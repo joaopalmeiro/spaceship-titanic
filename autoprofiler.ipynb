{
 "cells": [
  {
   "cell_type": "markdown",
   "id": "6e40dfd3-1942-492e-ac35-b6dcf90e56de",
   "metadata": {},
   "source": [
    "- https://github.com/cmudig/AutoProfiler\n",
    "- https://github.com/cmudig/AutoProfiler/blob/main/examples/SF%20Housing%20Demo.ipynb\n",
    "- https://github.com/cmudig/AutoProfiler/issues\n",
    "- https://github.com/ydataai/pandas-profiling\n",
    "- https://docs.deepchecks.com/stable/checks_gallery/tabular/data_integrity/plot_is_single_value.html"
   ]
  },
  {
   "cell_type": "code",
   "execution_count": null,
   "id": "1a5fcd71-77fc-42d5-b0e0-ac166749f4a6",
   "metadata": {},
   "outputs": [],
   "source": [
    "import pandas as pd\n",
    "\n",
    "from constants import TRAIN_DATA, TEST_DATA"
   ]
  },
  {
   "cell_type": "code",
   "execution_count": null,
   "id": "546e993d-725f-4e9c-966b-93681c530ffe",
   "metadata": {},
   "outputs": [],
   "source": [
    "train_df = pd.read_csv(TRAIN_DATA)\n",
    "test_df = pd.read_csv(TEST_DATA)"
   ]
  },
  {
   "cell_type": "code",
   "execution_count": null,
   "id": "e4ee0a4a-33bd-4c99-a4d9-ff7eae830d66",
   "metadata": {},
   "outputs": [],
   "source": [
    "type(train_df.index)"
   ]
  },
  {
   "cell_type": "code",
   "execution_count": null,
   "id": "730dd0c2-116f-4de5-8428-f2e7471c7599",
   "metadata": {},
   "outputs": [],
   "source": [
    "# df_housing = pd.read_csv(\"https://raw.githubusercontent.com/cmudig/AutoProfiler/main/examples/df_housing_sample.csv\")\n",
    "# df_housing[\"date\"] = pd.to_datetime(df_housing[\"date\"], format=\"%Y%m%d\")\n",
    "\n",
    "df_housing = pd.read_csv(\n",
    "    \"https://raw.githubusercontent.com/cmudig/AutoProfiler/main/examples/df_housing_sample.csv\",\n",
    "    parse_dates=[\"date\"],\n",
    "    index_col=\"date\",\n",
    ")"
   ]
  },
  {
   "cell_type": "code",
   "execution_count": null,
   "id": "d65fe152-7e18-496f-b193-ada7764d2f8d",
   "metadata": {},
   "outputs": [],
   "source": [
    "df_housing[\"single_value_col\"] = 0"
   ]
  },
  {
   "cell_type": "code",
   "execution_count": null,
   "id": "070816d9-f776-4033-a115-6e938234fac8",
   "metadata": {},
   "outputs": [],
   "source": [
    "df_housing.isna().sum()"
   ]
  },
  {
   "cell_type": "code",
   "execution_count": null,
   "id": "6fcdfc99-7e5b-45ce-964a-fe6fd92e58c7",
   "metadata": {},
   "outputs": [],
   "source": [
    "df_housing.shape"
   ]
  },
  {
   "cell_type": "code",
   "execution_count": null,
   "id": "ba50f31a-1a06-45fe-afb7-ccdc6e2545a5",
   "metadata": {},
   "outputs": [],
   "source": [
    "df_housing.dtypes"
   ]
  },
  {
   "cell_type": "code",
   "execution_count": null,
   "id": "b557a93a-f0cc-415d-b85a-6ffef1fac081",
   "metadata": {},
   "outputs": [],
   "source": [
    "df_housing.head()"
   ]
  },
  {
   "cell_type": "code",
   "execution_count": null,
   "id": "b047807d-94db-4159-9c3d-d99ed8b90fbf",
   "metadata": {},
   "outputs": [],
   "source": [
    "type(df_housing.index)"
   ]
  },
  {
   "cell_type": "code",
   "execution_count": null,
   "id": "25e3e054-99c2-4688-8bb4-5617d6bbad15",
   "metadata": {},
   "outputs": [],
   "source": [
    "df_housing_2018 = df_housing.loc[\"2018\"]\n",
    "df_housing_2018 = df_housing_2018.reset_index()"
   ]
  },
  {
   "cell_type": "code",
   "execution_count": null,
   "id": "2981fb1a-20e4-49ef-b5bc-b59d32696b28",
   "metadata": {},
   "outputs": [],
   "source": [
    "df_housing_2018.shape"
   ]
  },
  {
   "cell_type": "code",
   "execution_count": null,
   "id": "5367da7e-0a37-45bc-84d0-43521be7e60c",
   "metadata": {},
   "outputs": [],
   "source": [
    "df_housing_2018.head()"
   ]
  },
  {
   "cell_type": "markdown",
   "id": "a7c46cad-01ff-46fb-af2e-cb7687388431",
   "metadata": {},
   "source": [
    "---"
   ]
  }
 ],
 "metadata": {
  "kernelspec": {
   "display_name": "Python 3 (ipykernel)",
   "language": "python",
   "name": "python3"
  },
  "language_info": {
   "codemirror_mode": {
    "name": "ipython",
    "version": 3
   },
   "file_extension": ".py",
   "mimetype": "text/x-python",
   "name": "python",
   "nbconvert_exporter": "python",
   "pygments_lexer": "ipython3",
   "version": "3.8.13"
  }
 },
 "nbformat": 4,
 "nbformat_minor": 5
}
