{
 "cells": [
  {
   "cell_type": "markdown",
   "id": "96827418-7c11-430f-805b-4a640acea1ad",
   "metadata": {},
   "source": [
    "- https://www.kaggle.com/competitions/spaceship-titanic/data\n",
    "- https://www.kaggle.com/code/dansbecker/your-first-machine-learning-model"
   ]
  },
  {
   "cell_type": "code",
   "execution_count": null,
   "id": "f0a0364d-f851-4e73-a532-9c54ea23bea0",
   "metadata": {},
   "outputs": [],
   "source": [
    "import pandas as pd\n",
    "from sklearn.tree import DecisionTreeClassifier"
   ]
  },
  {
   "cell_type": "code",
   "execution_count": null,
   "id": "63528e8d-18ad-4484-a96a-f13527246edc",
   "metadata": {},
   "outputs": [],
   "source": [
    "TRAIN_DATA: str = \"data/train.csv\"\n",
    "TEST_DATA: str = \"data/test.csv\"\n",
    "\n",
    "SEED: int = 2912"
   ]
  },
  {
   "cell_type": "code",
   "execution_count": null,
   "id": "7758931a-a0eb-489d-96d7-225c20414f44",
   "metadata": {},
   "outputs": [],
   "source": [
    "train_df = pd.read_csv(TRAIN_DATA)\n",
    "test_df = pd.read_csv(TEST_DATA)"
   ]
  },
  {
   "cell_type": "code",
   "execution_count": null,
   "id": "449c40eb-a803-4012-a3d8-282bdea608c6",
   "metadata": {},
   "outputs": [],
   "source": [
    "train_df.head()"
   ]
  },
  {
   "cell_type": "code",
   "execution_count": null,
   "id": "9093a0bb-dd62-4ce5-8446-d2dffdeb9728",
   "metadata": {},
   "outputs": [],
   "source": [
    "test_df.head()"
   ]
  },
  {
   "cell_type": "code",
   "execution_count": null,
   "id": "70d64037-9c2a-4e11-a6ad-cbc58857ffce",
   "metadata": {},
   "outputs": [],
   "source": [
    "train_df.shape"
   ]
  },
  {
   "cell_type": "code",
   "execution_count": null,
   "id": "a89cd2a4-1200-4ad0-a921-84eaaa392700",
   "metadata": {},
   "outputs": [],
   "source": [
    "test_df.shape"
   ]
  },
  {
   "cell_type": "code",
   "execution_count": null,
   "id": "2e71d8ac-2606-4be7-8988-0181ce78ae64",
   "metadata": {},
   "outputs": [],
   "source": [
    "train_df.dtypes"
   ]
  },
  {
   "cell_type": "code",
   "execution_count": null,
   "id": "3922d8a0-5e5d-4243-a45e-8c2db5c0e541",
   "metadata": {},
   "outputs": [],
   "source": [
    "train_df[\"PassengerId\"].nunique() == train_df.shape[0]"
   ]
  },
  {
   "cell_type": "code",
   "execution_count": null,
   "id": "921695be-f4ff-4a99-8bfe-149ad832671b",
   "metadata": {},
   "outputs": [],
   "source": [
    "test_df[\"PassengerId\"].nunique() == test_df.shape[0]"
   ]
  },
  {
   "cell_type": "code",
   "execution_count": null,
   "id": "52e1ef58-738b-481d-b93d-a2431fb22085",
   "metadata": {},
   "outputs": [],
   "source": [
    "train_df[\"HomePlanet\"].value_counts(dropna=False)"
   ]
  },
  {
   "cell_type": "code",
   "execution_count": null,
   "id": "0ac01130-ab26-4414-8ab0-a54164f08a11",
   "metadata": {},
   "outputs": [],
   "source": [
    "train_df[\"CryoSleep\"].value_counts(dropna=False)"
   ]
  },
  {
   "cell_type": "code",
   "execution_count": null,
   "id": "c43296a5-1f6c-4277-b1f6-83085984eb9e",
   "metadata": {},
   "outputs": [],
   "source": [
    "train_df[\"Destination\"].value_counts(dropna=False)"
   ]
  },
  {
   "cell_type": "code",
   "execution_count": null,
   "id": "6fd18bf7-e315-4872-95fe-e352dacad161",
   "metadata": {},
   "outputs": [],
   "source": [
    "train_df[\"VIP\"].value_counts(dropna=False)"
   ]
  },
  {
   "cell_type": "code",
   "execution_count": null,
   "id": "16fbd8e2-5cf0-42cb-af84-0e3661cb35df",
   "metadata": {},
   "outputs": [],
   "source": [
    "# Target\n",
    "train_df[\"Transported\"].value_counts(dropna=False)"
   ]
  },
  {
   "cell_type": "code",
   "execution_count": null,
   "id": "a55a50a7-fcca-408a-90eb-b96847a09c83",
   "metadata": {},
   "outputs": [],
   "source": [
    "train_df[\"Name\"].nunique()"
   ]
  },
  {
   "cell_type": "code",
   "execution_count": null,
   "id": "2844d9fe-7636-4222-ac05-d58e71ceefed",
   "metadata": {},
   "outputs": [],
   "source": [
    "for col in train_df:\n",
    "    print(col)\n",
    "    display(train_df[col].unique())\n",
    "    print(\"---\")"
   ]
  },
  {
   "cell_type": "code",
   "execution_count": null,
   "id": "a92e8ea0-3d5f-4770-9649-d9d50d9a1315",
   "metadata": {},
   "outputs": [],
   "source": [
    "train_df.isna().sum()"
   ]
  },
  {
   "cell_type": "code",
   "execution_count": null,
   "id": "0dcbd725-c2bf-49d7-b5cd-951522857071",
   "metadata": {},
   "outputs": [],
   "source": [
    "test_df.isna().sum()"
   ]
  },
  {
   "cell_type": "code",
   "execution_count": null,
   "id": "f48a11a7-54f9-4804-bcbb-12109ebedf6f",
   "metadata": {},
   "outputs": [],
   "source": [
    "train_nona_df = train_df.dropna(how=\"any\")\n",
    "train_nona_df.shape"
   ]
  },
  {
   "cell_type": "code",
   "execution_count": null,
   "id": "cff43bd2-d5bc-41f6-9657-27e5757ef6fa",
   "metadata": {},
   "outputs": [],
   "source": [
    "train_df.shape[0] - train_nona_df.shape[0]"
   ]
  },
  {
   "cell_type": "code",
   "execution_count": null,
   "id": "abbeccdd-8d9b-4341-af2f-425301967f20",
   "metadata": {},
   "outputs": [],
   "source": [
    "train_nona_df[\"Transported\"].value_counts(dropna=False)"
   ]
  },
  {
   "cell_type": "markdown",
   "id": "81553248-f906-491f-95f9-e290c6071478",
   "metadata": {},
   "source": [
    "## Decision Tree"
   ]
  },
  {
   "cell_type": "code",
   "execution_count": null,
   "id": "b700cc2b-5af1-458a-be34-8fbc6448f09d",
   "metadata": {},
   "outputs": [],
   "source": [
    "y = train_df[\"Transported\"]\n",
    "# y.head()"
   ]
  },
  {
   "cell_type": "code",
   "execution_count": null,
   "id": "e64824e2-69d1-4238-99b1-07bd6e0a510f",
   "metadata": {},
   "outputs": [],
   "source": [
    "train_df.columns"
   ]
  },
  {
   "cell_type": "code",
   "execution_count": null,
   "id": "d5ea29de-183c-478e-b0b9-e0b546512a8c",
   "metadata": {},
   "outputs": [],
   "source": [
    "features = [\n",
    "    \"HomePlanet\",\n",
    "    \"CryoSleep\",\n",
    "    \"Cabin\",\n",
    "    \"Destination\",\n",
    "    \"Age\",\n",
    "    \"VIP\",\n",
    "    \"RoomService\",\n",
    "    \"FoodCourt\",\n",
    "    \"ShoppingMall\",\n",
    "    \"Spa\",\n",
    "    \"VRDeck\",\n",
    "]\n",
    "\n",
    "X = train_df[features]\n",
    "# X.head()"
   ]
  },
  {
   "cell_type": "code",
   "execution_count": null,
   "id": "054fac08-2688-4991-b584-91c81d897fcb",
   "metadata": {},
   "outputs": [],
   "source": [
    "dt_model = DecisionTreeClassifier(random_state=SEED)\n",
    "\n",
    "dt_model.fit(X, y)"
   ]
  },
  {
   "cell_type": "markdown",
   "id": "24df643f-62b1-4504-a44a-36d027ec1cc6",
   "metadata": {},
   "source": [
    "---"
   ]
  }
 ],
 "metadata": {
  "kernelspec": {
   "display_name": "Python 3 (ipykernel)",
   "language": "python",
   "name": "python3"
  },
  "language_info": {
   "codemirror_mode": {
    "name": "ipython",
    "version": 3
   },
   "file_extension": ".py",
   "mimetype": "text/x-python",
   "name": "python",
   "nbconvert_exporter": "python",
   "pygments_lexer": "ipython3",
   "version": "3.8.13"
  }
 },
 "nbformat": 4,
 "nbformat_minor": 5
}
