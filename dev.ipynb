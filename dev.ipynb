{
 "cells": [
  {
   "cell_type": "markdown",
   "id": "96827418-7c11-430f-805b-4a640acea1ad",
   "metadata": {},
   "source": [
    "- https://www.kaggle.com/competitions/spaceship-titanic/data\n",
    "- https://www.kaggle.com/code/dansbecker/your-first-machine-learning-model\n",
    "- Lazy Predict package: https://github.com/shankarpandala/lazypredict\n",
    "- https://scikit-learn.org/stable/modules/impute.html#estimators-that-handle-nan-values\n",
    "- https://www.kaggle.com/code/alexisbcook/missing-values"
   ]
  },
  {
   "cell_type": "code",
   "execution_count": null,
   "id": "f0a0364d-f851-4e73-a532-9c54ea23bea0",
   "metadata": {},
   "outputs": [],
   "source": [
    "import pandas as pd\n",
    "from sklearn.tree import DecisionTreeClassifier\n",
    "from sklearn.impute import SimpleImputer\n",
    "from sklearn.preprocessing import OrdinalEncoder\n",
    "from sklearn.metrics import accuracy_score\n",
    "from sklearn.ensemble import RandomForestClassifier"
   ]
  },
  {
   "cell_type": "code",
   "execution_count": null,
   "id": "63528e8d-18ad-4484-a96a-f13527246edc",
   "metadata": {},
   "outputs": [],
   "source": [
    "TRAIN_DATA: str = \"data/train.csv\"\n",
    "TEST_DATA: str = \"data/test.csv\"\n",
    "SUBMISSION_DATA: str = \"data/sample_submission.csv\"\n",
    "\n",
    "OUTPUT: str = \"data/submission.csv\"\n",
    "\n",
    "SEED: int = 2912"
   ]
  },
  {
   "cell_type": "code",
   "execution_count": null,
   "id": "7758931a-a0eb-489d-96d7-225c20414f44",
   "metadata": {},
   "outputs": [],
   "source": [
    "train_df = pd.read_csv(TRAIN_DATA)\n",
    "test_df = pd.read_csv(TEST_DATA)\n",
    "submission_df = pd.read_csv(SUBMISSION_DATA)"
   ]
  },
  {
   "cell_type": "code",
   "execution_count": null,
   "id": "449c40eb-a803-4012-a3d8-282bdea608c6",
   "metadata": {},
   "outputs": [],
   "source": [
    "train_df.head()"
   ]
  },
  {
   "cell_type": "code",
   "execution_count": null,
   "id": "9093a0bb-dd62-4ce5-8446-d2dffdeb9728",
   "metadata": {},
   "outputs": [],
   "source": [
    "test_df.head()"
   ]
  },
  {
   "cell_type": "code",
   "execution_count": null,
   "id": "70d64037-9c2a-4e11-a6ad-cbc58857ffce",
   "metadata": {},
   "outputs": [],
   "source": [
    "train_df.shape"
   ]
  },
  {
   "cell_type": "code",
   "execution_count": null,
   "id": "a89cd2a4-1200-4ad0-a921-84eaaa392700",
   "metadata": {},
   "outputs": [],
   "source": [
    "test_df.shape"
   ]
  },
  {
   "cell_type": "code",
   "execution_count": null,
   "id": "2e71d8ac-2606-4be7-8988-0181ce78ae64",
   "metadata": {},
   "outputs": [],
   "source": [
    "train_df.dtypes"
   ]
  },
  {
   "cell_type": "code",
   "execution_count": null,
   "id": "3922d8a0-5e5d-4243-a45e-8c2db5c0e541",
   "metadata": {},
   "outputs": [],
   "source": [
    "train_df[\"PassengerId\"].nunique() == train_df.shape[0]"
   ]
  },
  {
   "cell_type": "code",
   "execution_count": null,
   "id": "921695be-f4ff-4a99-8bfe-149ad832671b",
   "metadata": {},
   "outputs": [],
   "source": [
    "test_df[\"PassengerId\"].nunique() == test_df.shape[0]"
   ]
  },
  {
   "cell_type": "code",
   "execution_count": null,
   "id": "52e1ef58-738b-481d-b93d-a2431fb22085",
   "metadata": {},
   "outputs": [],
   "source": [
    "train_df[\"HomePlanet\"].value_counts(dropna=False)"
   ]
  },
  {
   "cell_type": "code",
   "execution_count": null,
   "id": "3d1c177e-9b0a-4840-be90-f5d384bb0539",
   "metadata": {},
   "outputs": [],
   "source": [
    "test_df[\"HomePlanet\"].value_counts(dropna=False)"
   ]
  },
  {
   "cell_type": "code",
   "execution_count": null,
   "id": "0ac01130-ab26-4414-8ab0-a54164f08a11",
   "metadata": {},
   "outputs": [],
   "source": [
    "train_df[\"CryoSleep\"].value_counts(dropna=False)"
   ]
  },
  {
   "cell_type": "code",
   "execution_count": null,
   "id": "5161a596-4061-49f9-b9c9-7bd534f468d2",
   "metadata": {},
   "outputs": [],
   "source": [
    "test_df[\"CryoSleep\"].value_counts(dropna=False)"
   ]
  },
  {
   "cell_type": "code",
   "execution_count": null,
   "id": "c43296a5-1f6c-4277-b1f6-83085984eb9e",
   "metadata": {},
   "outputs": [],
   "source": [
    "train_df[\"Destination\"].value_counts(dropna=False)"
   ]
  },
  {
   "cell_type": "code",
   "execution_count": null,
   "id": "8df91d81-95da-485e-b575-112bd7594273",
   "metadata": {},
   "outputs": [],
   "source": [
    "test_df[\"Destination\"].value_counts(dropna=False)"
   ]
  },
  {
   "cell_type": "code",
   "execution_count": null,
   "id": "6fd18bf7-e315-4872-95fe-e352dacad161",
   "metadata": {},
   "outputs": [],
   "source": [
    "train_df[\"VIP\"].value_counts(dropna=False)"
   ]
  },
  {
   "cell_type": "code",
   "execution_count": null,
   "id": "c69e7987-6195-4822-812a-ca9fa693247d",
   "metadata": {},
   "outputs": [],
   "source": [
    "test_df[\"VIP\"].value_counts(dropna=False)"
   ]
  },
  {
   "cell_type": "code",
   "execution_count": null,
   "id": "37aea594-2e7d-4a48-a95d-2ff8a0ea772d",
   "metadata": {},
   "outputs": [],
   "source": [
    "train_df[\"Cabin\"].value_counts(dropna=False)"
   ]
  },
  {
   "cell_type": "code",
   "execution_count": null,
   "id": "96f84916-245f-4ea2-a09b-9ed974ef271f",
   "metadata": {},
   "outputs": [],
   "source": [
    "test_df[\"Cabin\"].value_counts(dropna=False)"
   ]
  },
  {
   "cell_type": "code",
   "execution_count": null,
   "id": "16fbd8e2-5cf0-42cb-af84-0e3661cb35df",
   "metadata": {},
   "outputs": [],
   "source": [
    "# Target\n",
    "train_df[\"Transported\"].value_counts(dropna=False)"
   ]
  },
  {
   "cell_type": "code",
   "execution_count": null,
   "id": "a55a50a7-fcca-408a-90eb-b96847a09c83",
   "metadata": {},
   "outputs": [],
   "source": [
    "train_df[\"Name\"].nunique()"
   ]
  },
  {
   "cell_type": "code",
   "execution_count": null,
   "id": "2844d9fe-7636-4222-ac05-d58e71ceefed",
   "metadata": {},
   "outputs": [],
   "source": [
    "for col in train_df:\n",
    "    print(col)\n",
    "    display(train_df[col].unique())\n",
    "    print(\"---\")"
   ]
  },
  {
   "cell_type": "code",
   "execution_count": null,
   "id": "a92e8ea0-3d5f-4770-9649-d9d50d9a1315",
   "metadata": {},
   "outputs": [],
   "source": [
    "train_df.isna().sum()"
   ]
  },
  {
   "cell_type": "code",
   "execution_count": null,
   "id": "0dcbd725-c2bf-49d7-b5cd-951522857071",
   "metadata": {},
   "outputs": [],
   "source": [
    "test_df.isna().sum()"
   ]
  },
  {
   "cell_type": "code",
   "execution_count": null,
   "id": "f48a11a7-54f9-4804-bcbb-12109ebedf6f",
   "metadata": {},
   "outputs": [],
   "source": [
    "train_nona_df = train_df.dropna(how=\"any\")\n",
    "train_nona_df.shape"
   ]
  },
  {
   "cell_type": "code",
   "execution_count": null,
   "id": "cff43bd2-d5bc-41f6-9657-27e5757ef6fa",
   "metadata": {},
   "outputs": [],
   "source": [
    "train_df.shape[0] - train_nona_df.shape[0]"
   ]
  },
  {
   "cell_type": "code",
   "execution_count": null,
   "id": "abbeccdd-8d9b-4341-af2f-425301967f20",
   "metadata": {},
   "outputs": [],
   "source": [
    "train_nona_df[\"Transported\"].value_counts(dropna=False)"
   ]
  },
  {
   "cell_type": "markdown",
   "id": "99a5a95f-3c89-4ee7-965b-162724a4dc7e",
   "metadata": {},
   "source": [
    "## Missing Values"
   ]
  },
  {
   "cell_type": "code",
   "execution_count": null,
   "id": "04379220-1318-4a84-b7cc-6496e3178bec",
   "metadata": {},
   "outputs": [],
   "source": [
    "train_df.isna().sum().sort_values(ascending=False)"
   ]
  },
  {
   "cell_type": "code",
   "execution_count": null,
   "id": "d06114cd-437e-49fe-82d7-64c5d8bc1409",
   "metadata": {},
   "outputs": [],
   "source": [
    "test_df.isna().sum().sort_values(ascending=False)"
   ]
  },
  {
   "cell_type": "code",
   "execution_count": null,
   "id": "672d0d40-4861-4707-a3fa-895772f0c3ec",
   "metadata": {},
   "outputs": [],
   "source": [
    "# https://pandas.pydata.org/docs/reference/api/pandas.DataFrame.select_dtypes.html\n",
    "imputer_cols = train_df.select_dtypes(include=\"number\").columns.to_list()\n",
    "imputer_cols"
   ]
  },
  {
   "cell_type": "code",
   "execution_count": null,
   "id": "5a08d383-4940-4075-bb01-a7197d847efe",
   "metadata": {},
   "outputs": [],
   "source": [
    "# https://scikit-learn.org/stable/modules/generated/sklearn.impute.SimpleImputer.html\n",
    "imputer = SimpleImputer(strategy=\"mean\")\n",
    "\n",
    "imputer.fit(train_df[imputer_cols])\n",
    "\n",
    "train_df[imputer_cols] = imputer.transform(train_df[imputer_cols])\n",
    "test_df[imputer_cols] = imputer.transform(test_df[imputer_cols])\n",
    "\n",
    "# train_df.head(1)\n",
    "test_df.head(1)"
   ]
  },
  {
   "cell_type": "code",
   "execution_count": null,
   "id": "430acc51-c950-4ed1-8e97-84d00ea23558",
   "metadata": {},
   "outputs": [],
   "source": [
    "train_df.columns"
   ]
  },
  {
   "cell_type": "code",
   "execution_count": null,
   "id": "932acd4e-8ef7-4001-8309-a5e1442b6f74",
   "metadata": {},
   "outputs": [],
   "source": [
    "cat_binary_imputer_cols = [\"HomePlanet\", \"CryoSleep\", \"Destination\", \"VIP\"]"
   ]
  },
  {
   "cell_type": "code",
   "execution_count": null,
   "id": "68825174-ef14-4ad8-8360-af1c30d1627b",
   "metadata": {},
   "outputs": [],
   "source": [
    "cat_binary_imputer = SimpleImputer(strategy=\"most_frequent\")\n",
    "\n",
    "cat_binary_imputer.fit(train_df[cat_binary_imputer_cols])\n",
    "\n",
    "train_df[cat_binary_imputer_cols] = cat_binary_imputer.transform(\n",
    "    train_df[cat_binary_imputer_cols]\n",
    ")\n",
    "test_df[cat_binary_imputer_cols] = cat_binary_imputer.transform(\n",
    "    test_df[cat_binary_imputer_cols]\n",
    ")\n",
    "\n",
    "# train_df.head(1)\n",
    "test_df.head(1)"
   ]
  },
  {
   "cell_type": "code",
   "execution_count": null,
   "id": "608f6649-bc04-4b71-960e-ecc3f14ac0fb",
   "metadata": {},
   "outputs": [],
   "source": [
    "train_df[\"HomePlanet\"].value_counts(dropna=False)"
   ]
  },
  {
   "cell_type": "code",
   "execution_count": null,
   "id": "652f2af8-c4e2-4c02-acd0-2907925c5f32",
   "metadata": {},
   "outputs": [],
   "source": [
    "train_df.isna().sum().sort_values(ascending=False)"
   ]
  },
  {
   "cell_type": "markdown",
   "id": "ae8848af-a31f-4089-b397-a629a79ab3f5",
   "metadata": {},
   "source": [
    "## Encoding categorical features"
   ]
  },
  {
   "cell_type": "code",
   "execution_count": null,
   "id": "7d7fac2e-1907-46bc-891a-31b2d01816ca",
   "metadata": {},
   "outputs": [],
   "source": [
    "train_df.head()"
   ]
  },
  {
   "cell_type": "code",
   "execution_count": null,
   "id": "69909b4e-02f7-46cf-85f1-ba5302813cac",
   "metadata": {},
   "outputs": [],
   "source": [
    "# https://scikit-learn.org/stable/modules/generated/sklearn.preprocessing.OrdinalEncoder.html\n",
    "encoder = OrdinalEncoder()\n",
    "\n",
    "encoder.fit(train_df[cat_binary_imputer_cols])\n",
    "\n",
    "train_df[cat_binary_imputer_cols] = encoder.transform(train_df[cat_binary_imputer_cols])\n",
    "test_df[cat_binary_imputer_cols] = encoder.transform(test_df[cat_binary_imputer_cols])\n",
    "\n",
    "# train_df.head(1)\n",
    "test_df.head(1)"
   ]
  },
  {
   "cell_type": "markdown",
   "id": "1e351961-e6ae-49e5-9822-f6a44c61fc88",
   "metadata": {},
   "source": [
    "## Training Data"
   ]
  },
  {
   "cell_type": "code",
   "execution_count": null,
   "id": "b700cc2b-5af1-458a-be34-8fbc6448f09d",
   "metadata": {},
   "outputs": [],
   "source": [
    "y = train_df[\"Transported\"]\n",
    "# y.head()"
   ]
  },
  {
   "cell_type": "code",
   "execution_count": null,
   "id": "d5ea29de-183c-478e-b0b9-e0b546512a8c",
   "metadata": {},
   "outputs": [],
   "source": [
    "features = [\n",
    "    \"HomePlanet\",\n",
    "    \"CryoSleep\",\n",
    "    \"Destination\",\n",
    "    \"Age\",\n",
    "    \"VIP\",\n",
    "    \"RoomService\",\n",
    "    \"FoodCourt\",\n",
    "    \"ShoppingMall\",\n",
    "    \"Spa\",\n",
    "    \"VRDeck\",\n",
    "]\n",
    "\n",
    "X = train_df[features]\n",
    "X.head()"
   ]
  },
  {
   "cell_type": "code",
   "execution_count": null,
   "id": "5d8af6b0-8155-42ac-bd7b-d34a1a9dbac1",
   "metadata": {},
   "outputs": [],
   "source": [
    "test_df = test_df[features]\n",
    "test_df.head()"
   ]
  },
  {
   "cell_type": "markdown",
   "id": "81553248-f906-491f-95f9-e290c6071478",
   "metadata": {},
   "source": [
    "## Decision Tree"
   ]
  },
  {
   "cell_type": "code",
   "execution_count": null,
   "id": "054fac08-2688-4991-b584-91c81d897fcb",
   "metadata": {},
   "outputs": [],
   "source": [
    "dt_model = DecisionTreeClassifier(random_state=SEED)\n",
    "\n",
    "dt_model.fit(X, y)"
   ]
  },
  {
   "cell_type": "code",
   "execution_count": null,
   "id": "c84d47d2-4e99-4241-8342-65c31ffe671f",
   "metadata": {},
   "outputs": [],
   "source": [
    "y_pred = dt_model.predict(X)\n",
    "y_pred\n",
    "\n",
    "# dt_model.predict_proba(X)"
   ]
  },
  {
   "cell_type": "code",
   "execution_count": null,
   "id": "7072f247-2da0-4bca-8219-7b0adaf37583",
   "metadata": {},
   "outputs": [],
   "source": [
    "accuracy_score(y, y_pred)"
   ]
  },
  {
   "cell_type": "code",
   "execution_count": null,
   "id": "80abff70-c1fa-47c4-8721-2745563923a7",
   "metadata": {},
   "outputs": [],
   "source": [
    "# submission_df[\"Transported\"] = dt_model.predict(test_df)"
   ]
  },
  {
   "cell_type": "code",
   "execution_count": null,
   "id": "65ccce9e-818a-4406-8621-39905e75ef34",
   "metadata": {},
   "outputs": [],
   "source": [
    "# submission_df.head()"
   ]
  },
  {
   "cell_type": "code",
   "execution_count": null,
   "id": "65448fb3-0ffb-4f8c-a554-79b89cf4c3d9",
   "metadata": {},
   "outputs": [],
   "source": [
    "# submission_df.to_csv(OUTPUT, index=False)"
   ]
  },
  {
   "cell_type": "markdown",
   "id": "09e4221c-ec77-4c04-8752-cfd04edf7aa3",
   "metadata": {},
   "source": [
    "## Random Forest"
   ]
  },
  {
   "cell_type": "code",
   "execution_count": null,
   "id": "8a1a456d-da23-402c-a375-cb77d62275d8",
   "metadata": {},
   "outputs": [],
   "source": [
    "rf_model = RandomForestClassifier(random_state=SEED)\n",
    "\n",
    "rf_model.fit(X, y)"
   ]
  },
  {
   "cell_type": "code",
   "execution_count": null,
   "id": "28ef795c-3655-4177-974d-393ce097ab50",
   "metadata": {},
   "outputs": [],
   "source": [
    "submission_df[\"Transported\"] = rf_model.predict(test_df)"
   ]
  },
  {
   "cell_type": "code",
   "execution_count": null,
   "id": "75152c0c-3913-47a1-a42e-557f34f04eed",
   "metadata": {},
   "outputs": [],
   "source": [
    "submission_df.head()"
   ]
  },
  {
   "cell_type": "code",
   "execution_count": null,
   "id": "f03a9e35-25d1-483b-aaa9-4a0a26213a4a",
   "metadata": {},
   "outputs": [],
   "source": [
    "submission_df.to_csv(OUTPUT, index=False)"
   ]
  },
  {
   "cell_type": "markdown",
   "id": "24df643f-62b1-4504-a44a-36d027ec1cc6",
   "metadata": {},
   "source": [
    "---"
   ]
  }
 ],
 "metadata": {
  "kernelspec": {
   "display_name": "Python 3 (ipykernel)",
   "language": "python",
   "name": "python3"
  },
  "language_info": {
   "codemirror_mode": {
    "name": "ipython",
    "version": 3
   },
   "file_extension": ".py",
   "mimetype": "text/x-python",
   "name": "python",
   "nbconvert_exporter": "python",
   "pygments_lexer": "ipython3",
   "version": "3.8.13"
  }
 },
 "nbformat": 4,
 "nbformat_minor": 5
}
