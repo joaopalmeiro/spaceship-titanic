{
 "cells": [
  {
   "cell_type": "markdown",
   "id": "2a814be3-765f-4f86-be01-006ab507b522",
   "metadata": {},
   "source": [
    "# Second Model"
   ]
  },
  {
   "cell_type": "code",
   "execution_count": null,
   "id": "75577362-ac5a-4629-83d1-7084bd2f1b49",
   "metadata": {},
   "outputs": [],
   "source": [
    "import pandas as pd\n",
    "from sklearn.impute import SimpleImputer\n",
    "from sklearn.preprocessing import OrdinalEncoder\n",
    "from sklearn.ensemble import RandomForestClassifier\n",
    "from sklearn.inspection import permutation_importance\n",
    "\n",
    "from constants import TRAIN_DATA, TEST_DATA, SUBMISSION_DATA, OUTPUT, SEED"
   ]
  },
  {
   "cell_type": "code",
   "execution_count": null,
   "id": "b49fdf9e-f43f-448b-8012-b9cdc12ecc0d",
   "metadata": {},
   "outputs": [],
   "source": [
    "train_df = pd.read_csv(TRAIN_DATA)\n",
    "test_df = pd.read_csv(TEST_DATA)\n",
    "submission_df = pd.read_csv(SUBMISSION_DATA)"
   ]
  },
  {
   "cell_type": "code",
   "execution_count": null,
   "id": "11992a2f-4e7f-4b69-8fd7-4dd2ebb30694",
   "metadata": {},
   "outputs": [],
   "source": [
    "train_df.head()"
   ]
  },
  {
   "cell_type": "code",
   "execution_count": null,
   "id": "ecc43b7b-c367-47fe-8726-cae1079d3281",
   "metadata": {},
   "outputs": [],
   "source": [
    "train_df.isna().sum().sort_values(ascending=False)"
   ]
  },
  {
   "cell_type": "code",
   "execution_count": null,
   "id": "7d541e08-320a-4302-bbd7-141c1398499f",
   "metadata": {},
   "outputs": [],
   "source": [
    "cabin_cols = [\"CabinDeck\", \"CabinNum\", \"CabinSide\"]\n",
    "\n",
    "train_df[cabin_cols] = train_df[\"Cabin\"].str.split(\"/\", expand=True)\n",
    "train_df.head()"
   ]
  },
  {
   "cell_type": "code",
   "execution_count": null,
   "id": "76c1639c-3935-47e3-868b-bade4b65ea46",
   "metadata": {},
   "outputs": [],
   "source": [
    "test_df[cabin_cols] = test_df[\"Cabin\"].str.split(\"/\", expand=True)\n",
    "test_df.head()"
   ]
  },
  {
   "cell_type": "code",
   "execution_count": null,
   "id": "03694a25-0716-4e64-9261-7a335eb26120",
   "metadata": {},
   "outputs": [],
   "source": [
    "train_df[cabin_cols[0]].value_counts(dropna=False)"
   ]
  },
  {
   "cell_type": "code",
   "execution_count": null,
   "id": "418adfa1-44c2-4ddc-9804-81c4851a8f14",
   "metadata": {},
   "outputs": [],
   "source": [
    "test_df[cabin_cols[0]].value_counts(dropna=False)"
   ]
  },
  {
   "cell_type": "code",
   "execution_count": null,
   "id": "31008ef0-7ebc-463a-b96c-b4a0867ae05a",
   "metadata": {},
   "outputs": [],
   "source": [
    "train_df[cabin_cols[1]].value_counts(dropna=False)"
   ]
  },
  {
   "cell_type": "code",
   "execution_count": null,
   "id": "283cabc9-a241-44ad-b7cf-c39680d9a398",
   "metadata": {},
   "outputs": [],
   "source": [
    "train_df[cabin_cols[2]].value_counts(dropna=False)"
   ]
  },
  {
   "cell_type": "code",
   "execution_count": null,
   "id": "7cf85372-5c1b-40f9-9756-2fafeac808b2",
   "metadata": {},
   "outputs": [],
   "source": [
    "test_df[cabin_cols[2]].value_counts(dropna=False)"
   ]
  },
  {
   "cell_type": "code",
   "execution_count": null,
   "id": "972391ba-0fb0-4755-9552-1ff9574c47ec",
   "metadata": {},
   "outputs": [],
   "source": [
    "train_df.dtypes"
   ]
  },
  {
   "cell_type": "code",
   "execution_count": null,
   "id": "b3980c7d-554e-44c0-8dea-c0520cc26801",
   "metadata": {},
   "outputs": [],
   "source": [
    "# train_df[\"Name\"].unique().tolist()\n",
    "# test_df[\"Name\"].unique().tolist()"
   ]
  },
  {
   "cell_type": "markdown",
   "id": "54fa2258-ddc9-4853-975e-9e80c2da0632",
   "metadata": {},
   "source": [
    "## Missing Values"
   ]
  },
  {
   "cell_type": "code",
   "execution_count": null,
   "id": "51fc57bc-fe39-4bb9-90c7-9d2b527808b2",
   "metadata": {},
   "outputs": [],
   "source": [
    "num_imputer_cols = [\"Age\", \"RoomService\", \"FoodCourt\", \"ShoppingMall\", \"Spa\", \"VRDeck\"]"
   ]
  },
  {
   "cell_type": "code",
   "execution_count": null,
   "id": "86e5b045-8d49-4f02-8247-ebb13337425d",
   "metadata": {},
   "outputs": [],
   "source": [
    "# num_imputer = SimpleImputer(strategy=\"mean\")\n",
    "num_imputer = SimpleImputer(strategy=\"median\")\n",
    "\n",
    "num_imputer.fit(train_df[num_imputer_cols])\n",
    "\n",
    "train_df[num_imputer_cols] = num_imputer.transform(train_df[num_imputer_cols])\n",
    "test_df[num_imputer_cols] = num_imputer.transform(test_df[num_imputer_cols])"
   ]
  },
  {
   "cell_type": "code",
   "execution_count": null,
   "id": "69f587fb-f746-4b97-bd69-5ca3bcfe6bdc",
   "metadata": {},
   "outputs": [],
   "source": [
    "train_df[num_imputer_cols].isna().sum().sort_values(ascending=False)"
   ]
  },
  {
   "cell_type": "code",
   "execution_count": null,
   "id": "e6525a2a-ded0-42a0-a74a-baf1d0df6831",
   "metadata": {},
   "outputs": [],
   "source": [
    "test_df[num_imputer_cols].isna().sum().sort_values(ascending=False)"
   ]
  },
  {
   "cell_type": "code",
   "execution_count": null,
   "id": "9085febb-9799-46e9-b5f9-a8abdf703f1d",
   "metadata": {},
   "outputs": [],
   "source": [
    "cat_imputer_cols = [\n",
    "    \"HomePlanet\",\n",
    "    \"CryoSleep\",\n",
    "    \"Destination\",\n",
    "    \"VIP\",\n",
    "    \"CabinDeck\",\n",
    "    \"CabinSide\",\n",
    "]"
   ]
  },
  {
   "cell_type": "code",
   "execution_count": null,
   "id": "efd4665c-7da6-46f0-b040-a90cc3c3777b",
   "metadata": {},
   "outputs": [],
   "source": [
    "cat_imputer = SimpleImputer(strategy=\"most_frequent\")\n",
    "\n",
    "cat_imputer.fit(train_df[cat_imputer_cols])\n",
    "\n",
    "train_df[cat_imputer_cols] = cat_imputer.transform(train_df[cat_imputer_cols])\n",
    "test_df[cat_imputer_cols] = cat_imputer.transform(test_df[cat_imputer_cols])"
   ]
  },
  {
   "cell_type": "code",
   "execution_count": null,
   "id": "e3d05272-9c46-467e-bb72-92d3a1db8563",
   "metadata": {},
   "outputs": [],
   "source": [
    "train_df[cat_imputer_cols].isna().sum().sort_values(ascending=False)"
   ]
  },
  {
   "cell_type": "code",
   "execution_count": null,
   "id": "d99651ca-05d9-4433-bcf6-8173f3e35429",
   "metadata": {},
   "outputs": [],
   "source": [
    "test_df[cat_imputer_cols].isna().sum().sort_values(ascending=False)"
   ]
  },
  {
   "cell_type": "code",
   "execution_count": null,
   "id": "7336bdd9-8538-4ba4-9da0-3337026398ee",
   "metadata": {},
   "outputs": [],
   "source": [
    "train_df.isna().sum().sort_values(ascending=False)"
   ]
  },
  {
   "cell_type": "code",
   "execution_count": null,
   "id": "e79078e6-bf20-4733-9f2e-b2862c3c5718",
   "metadata": {},
   "outputs": [],
   "source": [
    "test_df.isna().sum().sort_values(ascending=False)"
   ]
  },
  {
   "cell_type": "markdown",
   "id": "d0c9d208-3a47-47ed-907c-3c1a362bb94d",
   "metadata": {},
   "source": [
    "## Encoding categorical features"
   ]
  },
  {
   "cell_type": "code",
   "execution_count": null,
   "id": "38529d52-3ea0-40aa-aff4-aec980fe0953",
   "metadata": {},
   "outputs": [],
   "source": [
    "train_df.head()"
   ]
  },
  {
   "cell_type": "code",
   "execution_count": null,
   "id": "5a19a36b-70bf-4992-9dde-ec786312f1b7",
   "metadata": {},
   "outputs": [],
   "source": [
    "encoder = OrdinalEncoder()\n",
    "\n",
    "encoder.fit(train_df[cat_imputer_cols])\n",
    "\n",
    "train_df[cat_imputer_cols] = encoder.transform(train_df[cat_imputer_cols])\n",
    "test_df[cat_imputer_cols] = encoder.transform(test_df[cat_imputer_cols])"
   ]
  },
  {
   "cell_type": "code",
   "execution_count": null,
   "id": "66ccc018-6eb5-4837-8631-e8a7e7235204",
   "metadata": {},
   "outputs": [],
   "source": [
    "train_df.head()"
   ]
  },
  {
   "cell_type": "code",
   "execution_count": null,
   "id": "8de881fd-c3fc-4ae6-9334-08556a1b8fe0",
   "metadata": {},
   "outputs": [],
   "source": [
    "test_df.head()"
   ]
  },
  {
   "cell_type": "markdown",
   "id": "113cafc7-d740-4df7-8890-9f9c511d7a36",
   "metadata": {},
   "source": [
    "## Training Data"
   ]
  },
  {
   "cell_type": "code",
   "execution_count": null,
   "id": "14a4d856-4fb7-49fc-92fb-017430cbaf78",
   "metadata": {},
   "outputs": [],
   "source": [
    "y = train_df[\"Transported\"]"
   ]
  },
  {
   "cell_type": "code",
   "execution_count": null,
   "id": "fb9e1d2b-7e2a-45f7-9d79-1ee80ab3f1f7",
   "metadata": {},
   "outputs": [],
   "source": [
    "features = [\n",
    "    \"HomePlanet\",\n",
    "    \"CryoSleep\",\n",
    "    \"Destination\",\n",
    "    \"Age\",\n",
    "    \"VIP\",\n",
    "    \"RoomService\",\n",
    "    \"FoodCourt\",\n",
    "    \"ShoppingMall\",\n",
    "    \"Spa\",\n",
    "    \"VRDeck\",\n",
    "    # \"CabinDeck\",\n",
    "    # \"CabinSide\",\n",
    "]\n",
    "\n",
    "X = train_df[features]\n",
    "X.head()"
   ]
  },
  {
   "cell_type": "code",
   "execution_count": null,
   "id": "945700fe-a468-44df-a50a-77447037cef8",
   "metadata": {},
   "outputs": [],
   "source": [
    "test_df = test_df[features]\n",
    "test_df.head()"
   ]
  },
  {
   "cell_type": "markdown",
   "id": "364e209e-10c6-49e6-adc3-e8cf79764db8",
   "metadata": {},
   "source": [
    "## Random Forest"
   ]
  },
  {
   "cell_type": "code",
   "execution_count": null,
   "id": "c106690c-1fa9-4095-8ea2-86f85bd83e11",
   "metadata": {},
   "outputs": [],
   "source": [
    "rf_model = RandomForestClassifier(random_state=SEED)\n",
    "\n",
    "rf_model.fit(X, y)"
   ]
  },
  {
   "cell_type": "code",
   "execution_count": null,
   "id": "3f86e91a-d36d-4da6-bf75-be5149daea8f",
   "metadata": {},
   "outputs": [],
   "source": [
    "rf_fi = pd.Series(rf_model.feature_importances_, index=rf_model.feature_names_in_)\n",
    "rf_fi.sort_values(ascending=False)"
   ]
  },
  {
   "cell_type": "code",
   "execution_count": null,
   "id": "bbb4d983-e242-4675-98ea-3efa0ebc67f4",
   "metadata": {},
   "outputs": [],
   "source": [
    "perm_fi = permutation_importance(\n",
    "    rf_model, X, y, n_repeats=10, random_state=SEED, n_jobs=2\n",
    ")\n",
    "\n",
    "rf_perm_fi = pd.Series(perm_fi.importances_mean, index=rf_model.feature_names_in_)\n",
    "rf_perm_fi.sort_values(ascending=False)"
   ]
  },
  {
   "cell_type": "code",
   "execution_count": null,
   "id": "bcbbdb67-e6a0-485a-b79d-f863fd20f5c2",
   "metadata": {},
   "outputs": [],
   "source": [
    "submission_df[\"Transported\"] = rf_model.predict(test_df)\n",
    "submission_df.to_csv(OUTPUT, index=False)"
   ]
  },
  {
   "cell_type": "markdown",
   "id": "2fc4a0bf-87e5-41ad-9120-28a2683e4fc5",
   "metadata": {},
   "source": [
    "---"
   ]
  }
 ],
 "metadata": {
  "kernelspec": {
   "display_name": "Python 3 (ipykernel)",
   "language": "python",
   "name": "python3"
  },
  "language_info": {
   "codemirror_mode": {
    "name": "ipython",
    "version": 3
   },
   "file_extension": ".py",
   "mimetype": "text/x-python",
   "name": "python",
   "nbconvert_exporter": "python",
   "pygments_lexer": "ipython3",
   "version": "3.8.13"
  }
 },
 "nbformat": 4,
 "nbformat_minor": 5
}
